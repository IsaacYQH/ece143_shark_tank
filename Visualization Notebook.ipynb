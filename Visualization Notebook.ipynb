{
 "cells": [
  {
   "cell_type": "markdown",
   "id": "56bae087-6951-4988-add2-58417aa96439",
   "metadata": {},
   "source": [
    "Download dataset"
   ]
  },
  {
   "cell_type": "code",
   "execution_count": null,
   "id": "80c92bb0-ab1d-42cd-bc82-787e7fcc3905",
   "metadata": {},
   "outputs": [],
   "source": [
    "import kagglehub\n",
    "\n",
    "# Download latest version\n",
    "path = kagglehub.dataset_download(\"thirumani/shark-tank-us-dataset\")\n",
    "\n",
    "print(\"Path to dataset files:\", path)"
   ]
  },
  {
   "cell_type": "markdown",
   "id": "8fa96b98-f8ea-4f28-ae40-e852d38021fa",
   "metadata": {},
   "source": [
    "Import libraries\n"
   ]
  },
  {
   "cell_type": "code",
   "execution_count": null,
   "id": "e5bd7ea5-58bc-4096-ae73-9da797e9d83f",
   "metadata": {},
   "outputs": [],
   "source": [
    "import pandas as pd\n",
    "import plotly.graph_objects as go\n",
    "import plotly.express as px\n",
    "import matplotlib.pyplot as plt\n",
    "import numpy as np\n",
    "import os"
   ]
  },
  {
   "cell_type": "markdown",
   "id": "d127d279-1997-4c3d-a30e-079ed8850611",
   "metadata": {},
   "source": [
    "Load dataset\n"
   ]
  },
  {
   "cell_type": "code",
   "execution_count": null,
   "id": "e0c854a7-c68e-454a-b540-9a1933a546cd",
   "metadata": {},
   "outputs": [],
   "source": [
    "file_path = os.path.join(path, \"Shark Tank US dataset.csv\")\n",
    "df = pd.read_csv(file_path)"
   ]
  },
  {
   "cell_type": "markdown",
   "id": "7fa11848-115e-4b06-9bb1-e8b04da72b62",
   "metadata": {},
   "source": [
    "Industries liked by shark vs viewers"
   ]
  },
  {
   "cell_type": "code",
   "execution_count": null,
   "id": "64e4ad7d-1645-4492-a60b-aeae34506458",
   "metadata": {},
   "outputs": [],
   "source": [
    "#Find sum of deal and viewers in each industry\n",
    "result_sum = df.groupby('Industry')[['Got Deal', 'US Viewership']].sum().reset_index()\n",
    "\n",
    "# Find the count of entries in each 'Industry'\n",
    "industry_count = df['Industry'].value_counts().reset_index()\n",
    "industry_count.columns = ['Industry', 'Count']\n",
    "\n",
    "# Merge the sum and count results\n",
    "final_result = pd.merge(result_sum, industry_count, on='Industry', how='outer')\n",
    "\n",
    "# Calculate success rate\n",
    "final_result['success rate'] = final_result['Got Deal'] / final_result['Count'] * 100\n",
    "final_result = final_result[final_result['Industry']!='Uncertain/Other']\n",
    "\n",
    "# Create a scatter plot using Plotly\n",
    "fig = px.scatter(\n",
    "    final_result,\n",
    "    x='US Viewership',\n",
    "    y='success rate',\n",
    "    hover_name='Industry',\n",
    "    text='Industry',\n",
    "    title='US Viewership vs Success Rate by Industry',\n",
    "    labels={'US Viewership': 'US Viewership (in million)', 'success rate': 'Success Rate (%)'},\n",
    "    color_discrete_sequence=['blue']\n",
    ")\n",
    "\n",
    "# Update trace to improve text visibility\n",
    "fig.update_traces(\n",
    "    textposition='top center',\n",
    "    textfont=dict(size=20),\n",
    "    marker=dict(opacity=0.7)\n",
    ")\n",
    "\n",
    "# Update layout for better readability and set x-axis ticks\n",
    "fig.update_layout(\n",
    "    width=1800,\n",
    "    height=1200,\n",
    "    xaxis=dict(\n",
    "        title_font=dict(size=20), \n",
    "        tickfont=dict(size=12),\n",
    "        dtick=400,  # Set x-axis tick interval to 400\n",
    "        range=[0, max(final_result['US Viewership']) + 100]  # Adjust x-axis range\n",
    "    ),\n",
    "    yaxis=dict(title_font=dict(size=20), tickfont=dict(size=12)),\n",
    "    title=dict(font=dict(size=20)),\n",
    "    hovermode='closest'\n",
    ")\n",
    "\n",
    "# Adjust margins to prevent cutoff\n",
    "fig.update_layout(margin=dict(l=20, r=20, t=50, b=20))\n",
    "\n",
    "# Show the plot\n",
    "fig.show()\n"
   ]
  },
  {
   "cell_type": "markdown",
   "id": "e8addf71-2c63-441d-91d1-28f60dc6dc52",
   "metadata": {},
   "source": [
    "Gender pie charts"
   ]
  },
  {
   "cell_type": "code",
   "execution_count": null,
   "id": "9f1bd232-0c9f-4208-ba98-b673f7753764",
   "metadata": {},
   "outputs": [],
   "source": [
    "# Filter the dataframe for deals that were made\n",
    "deals_made = df[df['Got Deal'] == 1]\n",
    "\n",
    "# Calculate the percentage of each gender class that got a deal\n",
    "gender_percentages = deals_made['Pitchers Gender'].value_counts(normalize=True) * 100\n",
    "\n",
    "# Create a pie chart using plotly\n",
    "plt.figure(figsize=(8, 8))\n",
    "plt.pie(gender_percentages.values, labels=gender_percentages.index, autopct='%1.1f%%', startangle=90,textprops={'fontsize': 20})\n",
    "plt.title('Gender Distribution of Successful Pitchers', fontsize =20 )\n",
    "plt.axis('equal')  # Equal aspect ratio ensures that pie is drawn as a circle\n",
    "\n",
    "# Show the plot\n",
    "plt.show()\n",
    "\n",
    "#Plot geneder for successful and unsuccessful deals\n",
    "gender_counts = df['Pitchers Gender'].value_counts()\n",
    "\n",
    "# Create a pie chart\n",
    "plt.figure(figsize=(10, 8))\n",
    "plt.pie(gender_counts.values, labels=gender_counts.index, autopct='%1.1f%%', startangle=90,textprops={'fontsize': 20})\n",
    "plt.title('Gender Distribution of Pitchers', fontsize =20 )\n",
    "plt.axis('equal')  # Equal aspect ratio ensures that pie is drawn as a circle\n",
    "\n",
    "# Display the chart\n",
    "plt.show()"
   ]
  },
  {
   "cell_type": "code",
   "execution_count": null,
   "id": "4d1819d3-8360-4b4f-9f9d-e1e53b123788",
   "metadata": {},
   "outputs": [],
   "source": []
  }
 ],
 "metadata": {
  "kernelspec": {
   "display_name": "Python 3 (ipykernel)",
   "language": "python",
   "name": "python3"
  },
  "language_info": {
   "codemirror_mode": {
    "name": "ipython",
    "version": 3
   },
   "file_extension": ".py",
   "mimetype": "text/x-python",
   "name": "python",
   "nbconvert_exporter": "python",
   "pygments_lexer": "ipython3",
   "version": "3.12.4"
  }
 },
 "nbformat": 4,
 "nbformat_minor": 5
}
