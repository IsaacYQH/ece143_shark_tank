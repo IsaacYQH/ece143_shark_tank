{
 "cells": [
  {
   "cell_type": "code",
   "execution_count": 222,
   "metadata": {},
   "outputs": [
    {
     "name": "stdout",
     "output_type": "stream",
     "text": [
      "1365 samples found after data cleaning!\n",
      "581 kept valid samples after data cleaning!\n"
     ]
    }
   ],
   "source": [
    "import pandas as pd\n",
    "\n",
    "# Load the dataset\n",
    "df = pd.read_csv('Shark Tank US dataset.csv')\n",
    "print(f'{df.shape[0]} samples found after data cleaning!')# Drop rows with missing 'Got Deal' values\n",
    "features_orig = ['Industry','Pitchers Gender','Pitchers State', 'Multiple Entrepreneurs', 'Original Ask Amount', 'Original Offered Equity', 'Valuation Requested', 'Got Deal']\n",
    "df = df.dropna(subset=features_orig)\n",
    "print(f'{df.shape[0]} kept valid samples after data cleaning!')"
   ]
  },
  {
   "cell_type": "code",
   "execution_count": 223,
   "metadata": {},
   "outputs": [
    {
     "name": "stdout",
     "output_type": "stream",
     "text": [
      "['Industry', 'Pitchers Gender', 'Multiple Entrepreneurs', 'Original Ask Amount', 'Original Offered Equity', 'Valuation Requested', 'Company Website Bool', 'Pitchers State Bool']\n",
      "Index(['Multiple Entrepreneurs', 'Original Ask Amount',\n",
      "       'Original Offered Equity', 'Valuation Requested',\n",
      "       'Company Website Bool', 'Pitchers State Bool', 'Industry_Automotive',\n",
      "       'Industry_Business Services', 'Industry_Children/Education',\n",
      "       'Industry_Electronics', 'Industry_Fashion/Beauty',\n",
      "       'Industry_Fitness/Sports/Outdoors', 'Industry_Food and Beverage',\n",
      "       'Industry_Green/CleanTech', 'Industry_Health/Wellness',\n",
      "       'Industry_Lifestyle/Home', 'Industry_Liquor/Alcohol',\n",
      "       'Industry_Media/Entertainment', 'Industry_Pet Products',\n",
      "       'Industry_Software/Tech', 'Industry_Travel', 'Industry_Uncertain/Other',\n",
      "       'Pitchers Gender_Female', 'Pitchers Gender_Male',\n",
      "       'Pitchers Gender_Mixed Team'],\n",
      "      dtype='object')\n",
      "25 features after one-hot encoding!\n"
     ]
    }
   ],
   "source": [
    "from sklearn.preprocessing import StandardScaler\n",
    "\n",
    "# Have Company Website or not\n",
    "df[\"Company Website Bool\"] = df[\"Company Website\"]\n",
    "df[\"Company Website Bool\"] = df[\"Company Website Bool\"].apply(lambda x: False if pd.isna(x) else True)\n",
    "df[\"Pitchers State Bool\"] = df[\"Pitchers State\"]\n",
    "top_us_states_by_gdp_short = [\n",
    "    \"CA\",  # California\n",
    "    \"TX\",  # Texas\n",
    "    \"NY\",  # New York\n",
    "    \"FL\",  # Florida\n",
    "    \"IL\",  # Illinois\n",
    "    \"PA\",  # Pennsylvania\n",
    "    \"OH\",  # Ohio\n",
    "    \"GA\",  # Georgia\n",
    "    \"NJ\",  # New Jersey\n",
    "    \"WA\",  # Washington\n",
    "]\n",
    "\n",
    "df[\"Pitchers State Bool\"] = df[\"Pitchers State Bool\"].apply(lambda x: True if x in top_us_states_by_gdp_short else False)\n",
    "# Feature selection\n",
    "try:\n",
    "    features_orig.remove('Got Deal')\n",
    "    features_orig.remove('Pitchers State')\n",
    "except:\n",
    "    pass    \n",
    "features = features_orig+['Company Website Bool', 'Pitchers State Bool']\n",
    "print(features)\n",
    "X = df[features]\n",
    "y = df['Got Deal']\n",
    "\n",
    "# One-hot encode categorical features\n",
    "X = pd.get_dummies(X, columns=['Industry', 'Pitchers Gender'])\n",
    "# Standardize numeric features\n",
    "scaler = StandardScaler()\n",
    "numeric_features = ['Original Ask Amount', 'Original Offered Equity', 'Valuation Requested']\n",
    "X[numeric_features] = scaler.fit_transform(X[numeric_features])\n",
    "\n",
    "print(X.columns)\n",
    "print(f'{len(X.columns)} features after one-hot encoding!')"
   ]
  },
  {
   "cell_type": "code",
   "execution_count": 224,
   "metadata": {},
   "outputs": [
    {
     "name": "stdout",
     "output_type": "stream",
     "text": [
      "0.08\n",
      "Validation Accuracy: 0.66\n",
      "Top 10 features by absolute coefficient:\n",
      "[('Multiple Entrepreneurs', 0.3075908715795619),\n",
      " ('Pitchers State Bool', 0.23719393756921464),\n",
      " ('Original Offered Equity', -0.22322268234168216),\n",
      " ('Industry_Pet Products', -0.16755337279395738),\n",
      " ('Pitchers Gender_Female', 0.16682549054764784),\n",
      " ('Industry_Fitness/Sports/Outdoors', 0.13689791434627446),\n",
      " ('Industry_Fashion/Beauty', -0.13159596180010497),\n",
      " ('Industry_Business Services', -0.12916025772076967),\n",
      " ('Pitchers Gender_Male', -0.11364060306724734),\n",
      " ('Industry_Media/Entertainment', 0.10598047384793423)]\n"
     ]
    }
   ],
   "source": [
    "import numpy as np\n",
    "from sklearn.model_selection import train_test_split, GridSearchCV\n",
    "from sklearn.linear_model import LogisticRegression, LogisticRegressionCV\n",
    "from sklearn.metrics import accuracy_score, confusion_matrix, classification_report\n",
    "\n",
    "# Sample data (replace with your actual data)\n",
    "# X, y = your_data_features, your_data_labels\n",
    "# Train-test split\n",
    "X_train, X_val, y_train, y_val = train_test_split(X, y, test_size=0.2, random_state=62)\n",
    "\n",
    "model = LogisticRegressionCV(Cs=np.arange(0.01,0.1,0.01) , cv=10, max_iter=1000, random_state=0)\n",
    "model.fit(X_train, y_train)\n",
    "# Predictions and evaluation\n",
    "y_pred = model.predict(X_val)\n",
    "accuracy = accuracy_score(y_val, y_pred)\n",
    "\n",
    "from pprint import pprint\n",
    "print(model.C_.item())\n",
    "# print(pd.DataFrame(list(zip(list(X.columns),list(model.coef_.flatten())))))\n",
    "print(f\"Validation Accuracy: {accuracy:.2f}\")\n",
    "# print(\"Confusion Matrix:\\n\", confusion_matrix(y_val, y_pred))\n",
    "# print(\"Classification Report:\\n\", classification_report(y_val, y_pred))\n",
    "print(\"Top 10 features by absolute coefficient:\")\n",
    "pprint(sorted(list(zip(list(X.columns),list(model.coef_.flatten()))), key=lambda x: abs(x[1]), reverse=True)[:10])\n",
    "\n",
    "\n"
   ]
  }
 ],
 "metadata": {
  "kernelspec": {
   "display_name": "conda_only",
   "language": "python",
   "name": "python3"
  },
  "language_info": {
   "codemirror_mode": {
    "name": "ipython",
    "version": 3
   },
   "file_extension": ".py",
   "mimetype": "text/x-python",
   "name": "python",
   "nbconvert_exporter": "python",
   "pygments_lexer": "ipython3",
   "version": "3.12.2"
  }
 },
 "nbformat": 4,
 "nbformat_minor": 2
}
